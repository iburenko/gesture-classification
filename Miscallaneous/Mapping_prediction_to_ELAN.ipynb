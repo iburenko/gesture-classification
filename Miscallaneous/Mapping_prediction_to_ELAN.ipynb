{
 "cells": [
  {
   "cell_type": "code",
   "execution_count": 1,
   "id": "26c4e68b",
   "metadata": {
    "scrolled": true
   },
   "outputs": [],
   "source": [
    "from os import path, makedirs\n",
    "from shutil import copyfile\n",
    "import argparse\n",
    "\n",
    "import pympi\n",
    "import numpy as np\n",
    "import pandas as pd\n",
    "\n",
    "from elan_helpers import (\n",
    "    extract_timeseries\n",
    ")\n",
    "from xml_helpers import template2case_xml, handle_eaf_file\n",
    "from video_helpers import find_video_file\n",
    "\n"
   ]
  },
  {
   "cell_type": "code",
   "execution_count": 2,
   "id": "77768e14",
   "metadata": {},
   "outputs": [],
   "source": [
    "def add_annotation_new(eaf, tier_name, data_list, start_time_list, end_time_list):\n",
    "    \n",
    "    for start_time, end_time, label in zip(\n",
    "        start_time_list, end_time_list, data_list\n",
    "        ):\n",
    "        if start_time == end_time:\n",
    "            continue\n",
    "        eaf.add_annotation(tier_name, start_time, end_time, label)\n",
    "    return None"
   ]
  },
  {
   "cell_type": "code",
   "execution_count": 3,
   "id": "ac6edc99",
   "metadata": {},
   "outputs": [],
   "source": [
    "output_folder = r'/beegfs/.global0/ws/sapo684c-sac_space/ELAN_Mapping_prediction'\n",
    "annotations_home = r'/beegfs/.global0/ws/sapo684c-sac_space/Testing_from_models/2014-11-15.csv'"
   ]
  },
  {
   "cell_type": "code",
   "execution_count": 4,
   "id": "52ced08c",
   "metadata": {},
   "outputs": [],
   "source": [
    "df=pd.read_csv(annotations_home)"
   ]
  },
  {
   "cell_type": "code",
   "execution_count": 15,
   "id": "e3bd9010",
   "metadata": {},
   "outputs": [],
   "source": [
    "start_times=[]\n",
    "end_time=[]\n",
    "labels=[]\n",
    "for index, row in df.iterrows():\n",
    "    label = row['Predictions']\n",
    "    #print(row)\n",
    "    #print(index)\n",
    "    if label ==0:\n",
    "        df.drop(index,axis=0,inplace=True)\n",
    "    else:\n",
    "        start_frame = int(row['Start Time'])\n",
    "        start_times.append(start_frame)\n",
    "        end_frame = int(row['End Time'])\n",
    "        end_time.append(end_frame)\n",
    "        labels.append(str(label))"
   ]
  },
  {
   "cell_type": "code",
   "execution_count": 16,
   "id": "1a7b7f6c",
   "metadata": {},
   "outputs": [],
   "source": [
    "tiers = [\n",
    "    \"Predictions\", \n",
    "]\n"
   ]
  },
  {
   "cell_type": "code",
   "execution_count": 17,
   "id": "f2dc2fd9",
   "metadata": {},
   "outputs": [],
   "source": [
    "eaf_file= r'/beegfs/.global0/ws/sapo684c-sac_space/Testing_from_models/11-15.eaf'"
   ]
  },
  {
   "cell_type": "code",
   "execution_count": 18,
   "id": "b5a5d9b0",
   "metadata": {},
   "outputs": [],
   "source": [
    "dst_eaf = path.join(output_folder,'trial_5.eaf')"
   ]
  },
  {
   "cell_type": "code",
   "execution_count": 19,
   "id": "dccff2e1",
   "metadata": {},
   "outputs": [],
   "source": [
    "eaf = pympi.Elan.Eaf(eaf_file)"
   ]
  },
  {
   "cell_type": "code",
   "execution_count": 18,
   "id": "976df12e",
   "metadata": {},
   "outputs": [],
   "source": [
    "tier_names_to_delete = [ \"Gesture\", \"Modesofrepresent\",\"Clause\",\"Transitivity\",\"visibility\",\"audience\",\"action\",\"NA-layer\"]"
   ]
  },
  {
   "cell_type": "code",
   "execution_count": null,
   "id": "c4e101ac",
   "metadata": {},
   "outputs": [],
   "source": [
    "for tier_name in tier_names_to_delete:\n",
    "    if tier_name in eaf.get_tier_names():\n",
    "        eaf.remove_tier(tier_name)\n",
    "        print(f\"Tier '{tier_name}' has been deleted.\")\n",
    "    else:\n",
    "        print(f\"Tier '{tier_name}' does not exist.\")"
   ]
  },
  {
   "cell_type": "code",
   "execution_count": 20,
   "id": "20fb1e05",
   "metadata": {},
   "outputs": [],
   "source": [
    "for tier_name in tiers:\n",
    "        eaf.add_tier(tier_name)"
   ]
  },
  {
   "cell_type": "code",
   "execution_count": 21,
   "id": "a5e0263e",
   "metadata": {},
   "outputs": [],
   "source": [
    "add_annotation_new(eaf, \"Predictions\", labels, start_times, end_time)"
   ]
  },
  {
   "cell_type": "code",
   "execution_count": 22,
   "id": "8eab7e9e",
   "metadata": {},
   "outputs": [],
   "source": [
    "eaf.to_file(dst_eaf)"
   ]
  },
  {
   "cell_type": "markdown",
   "id": "5e614801",
   "metadata": {},
   "source": [
    "# LOOP FOR CSV MERGE"
   ]
  },
  {
   "cell_type": "code",
   "execution_count": 1,
   "id": "b058636a",
   "metadata": {},
   "outputs": [],
   "source": [
    "import os\n",
    "import re\n",
    "import numpy as np\n",
    "import pandas as pd"
   ]
  },
  {
   "cell_type": "code",
   "execution_count": 2,
   "id": "f9028783",
   "metadata": {},
   "outputs": [],
   "source": [
    "fp1=r'/beegfs/.global0/ws/sapo684c-sac_space/Testing_from_models/version_98'\n",
    "fp2=r'/beegfs/.global0/ws/sapo684c-sac_space/Testing_from_models/version_104'\n",
    "fp3=r'/beegfs/.global0/ws/sapo684c-sac_space/Testing_from_models/version_106'\n",
    "fp4=r'/beegfs/.global0/ws/sapo684c-sac_space/ELAN_Mapping_prediction/masking/version_162'\n",
    "op=r'/beegfs/.global0/ws/sapo684c-sac_space/ELAN_Mapping_prediction/masking/Final_merge'"
   ]
  },
  {
   "cell_type": "code",
   "execution_count": null,
   "id": "de33fc22",
   "metadata": {},
   "outputs": [],
   "source": [
    "for elem in os.listdir(fp1):\n",
    "    print(elem)\n",
    "    file_1 = os.path.join(fp1,elem)\n",
    "    file_2 = os.path.join(fp2,elem)\n",
    "    file_3 =os.path.join(fp3,elem)\n",
    "    file_4 =os.path.join(fp4,elem)\n",
    "    df1 =pd.read_csv(file_1)\n",
    "    df2=pd.read_csv(file_2)\n",
    "    df3=pd.read_csv(file_3)\n",
    "    df4=pd.read_csv(file_4)\n",
    "    df1['Predictions-3VF'] = df1['Predictions'].round(3)\n",
    "    df1.drop(columns=['Predictions'], inplace=True)\n",
    "    df2['Predictions'] = df2['Predictions'].round(3)\n",
    "    df3['Predictions'] = df3['Predictions'].round(3)\n",
    "    df4['Predictions'] = df4['Predictions'].round(3)\n",
    "    df1['Predictions-3OF'] = df2['Predictions']\n",
    "    df1['Predictions-6 channels'] =df3['Predictions']\n",
    "    df1['Predictions-mask']=df4['Predictions']\n",
    "    od=os.path.join(op,elem[:-4]+'.csv')\n",
    "    df1.to_csv(od, index=False)\n",
    "    "
   ]
  },
  {
   "cell_type": "markdown",
   "id": "670bcf48",
   "metadata": {},
   "source": [
    "# LOOP FOR EAF"
   ]
  },
  {
   "cell_type": "code",
   "execution_count": 6,
   "id": "3d1c39e7",
   "metadata": {},
   "outputs": [],
   "source": [
    "from os import path, makedirs\n",
    "from shutil import copyfile\n",
    "import argparse\n",
    "import os\n",
    "\n",
    "import pympi\n",
    "import numpy as np\n",
    "import pandas as pd\n",
    "\n",
    "from elan_helpers import (\n",
    "    extract_timeseries\n",
    ")\n",
    "from xml_helpers import template2case_xml, handle_eaf_file\n",
    "from video_helpers import find_video_file\n"
   ]
  },
  {
   "cell_type": "code",
   "execution_count": 7,
   "id": "3e5fa875",
   "metadata": {},
   "outputs": [],
   "source": [
    "def add_annotation_new(eaf, tier_name, data_list, start_time_list, end_time_list):\n",
    "    \n",
    "    for start_time, end_time, label in zip(\n",
    "        start_time_list, end_time_list, data_list\n",
    "        ):\n",
    "        if start_time == end_time:\n",
    "            continue\n",
    "        eaf.add_annotation(tier_name, start_time, end_time, label)\n",
    "    return None"
   ]
  },
  {
   "cell_type": "code",
   "execution_count": 8,
   "id": "046ce636",
   "metadata": {},
   "outputs": [],
   "source": [
    "output_folder = r'/beegfs/.global0/ws/sapo684c-sac_space/ELAN_Mapping_prediction/masking/Output_ELAN'"
   ]
  },
  {
   "cell_type": "code",
   "execution_count": 9,
   "id": "28fe1463",
   "metadata": {},
   "outputs": [],
   "source": [
    "annotations_home = r'/beegfs/.global0/ws/sapo684c-sac_space/Testing_from_models/version_224'"
   ]
  },
  {
   "cell_type": "code",
   "execution_count": 10,
   "id": "fac32596",
   "metadata": {},
   "outputs": [],
   "source": [
    "eaf_home=r'/beegfs/.global0/ws/sapo684c-sac_space/ELAN_Mapping_prediction/Final_merge'"
   ]
  },
  {
   "cell_type": "code",
   "execution_count": null,
   "id": "f6ca41f6",
   "metadata": {},
   "outputs": [],
   "source": []
  },
  {
   "cell_type": "code",
   "execution_count": 11,
   "id": "be199ed1",
   "metadata": {},
   "outputs": [],
   "source": [
    "version_type='Final_merge'"
   ]
  },
  {
   "cell_type": "code",
   "execution_count": null,
   "id": "3d631d2a",
   "metadata": {},
   "outputs": [],
   "source": [
    "annotations_dir=os.path.join(annotations_home,version_type)\n",
    "print(annotations_dir)"
   ]
  },
  {
   "cell_type": "code",
   "execution_count": null,
   "id": "f34de7da",
   "metadata": {},
   "outputs": [],
   "source": [
    "for elem in os.listdir(annotations_dir):\n",
    "    print(elem)\n",
    "    annot_file=os.path.join(annotations_dir,elem)\n",
    "    print(annot_file)\n",
    "    ele=elem.split('.')[0]\n",
    "    #ele = '_'.join(ele)\n",
    "    #ele = ele.split('.')[0]\n",
    "    print(ele)\n",
    "    eaf_file = os.path.join(eaf_home, ele+ '.eaf')\n",
    "    df=pd.read_csv(annot_file)\n",
    "    start_times=[]\n",
    "    end_time=[]\n",
    "    labels_1=[]\n",
    "    labels_2=[]\n",
    "    labels_3=[]\n",
    "    labels_4=[]\n",
    "    labels_5=[]\n",
    "    labels_6=[]\n",
    "    labels_7=[]\n",
    "    labels_8=[]\n",
    "    start_times_1 =[]\n",
    "    start_times_2=[]\n",
    "    start_times_3=[]\n",
    "    start_times_4=[]\n",
    "    end_times_1=[]\n",
    "    end_times_2=[]\n",
    "    end_times_3=[]\n",
    "    end_times_4=[]\n",
    "    \n",
    "    for index, row in df.iterrows():\n",
    "        label_1 = row['Predictions-3VF']\n",
    "        label_2 = row['Predictions-3OF']\n",
    "        label_3 = row['Predictions-6 channels']\n",
    "        label_7 = row['Predictions-mask']\n",
    "        #print(row)\n",
    "        #print(index)\n",
    "        start_frame = int(row['Start Time'])\n",
    "        start_times.append(start_frame)\n",
    "        end_frame = int(row['End Time'])\n",
    "        end_time.append(end_frame)\n",
    "        labels_1.append(str(label_1))\n",
    "        labels_2.append(str(label_2))\n",
    "        labels_3.append(str(label_3))\n",
    "        labels_7.append(str(label_7))\n",
    "        if label_1 >= 0.5:\n",
    "            label_4= row['Predictions-3VF']\n",
    "            start_frame_1=int(row['Start Time'])\n",
    "            start_times_1.append(start_frame_1)\n",
    "            end_frame_1 = int(row['End Time'])\n",
    "            end_times_1.append(end_frame_1)\n",
    "            labels_4.append(str(label_4))\n",
    "        if label_2>= 0.5:\n",
    "            \n",
    "            label_5= row['Predictions-3OF']\n",
    "            start_frame_2=int(row['Start Time'])\n",
    "            start_times_2.append(start_frame_2)\n",
    "            end_frame_2 = int(row['End Time'])\n",
    "            end_times_2.append(end_frame_2)\n",
    "            labels_5.append(str(label_5))\n",
    "            \n",
    "        if label_3>=0.5:\n",
    "            \n",
    "            label_6= row['Predictions-6 channels']\n",
    "            start_frame_3=int(row['Start Time'])\n",
    "            start_times_3.append(start_frame_3)\n",
    "            end_frame_3 = int(row['End Time'])\n",
    "            end_times_3.append(end_frame_3)\n",
    "            labels_6.append(str(label_6))\n",
    "            \n",
    "        if label_7>=0.5:\n",
    "            \n",
    "            label_8 = row['Predictions-mask']\n",
    "            start_frame_4=int(row['Start Time'])\n",
    "            start_times_4.append(start_frame_4)\n",
    "            end_frame_4 = int(row['End Time'])\n",
    "            end_times_4.append(end_frame_4)\n",
    "            labels_8.append(str(label_8))\n",
    "            \n",
    "    tiers = [\n",
    "    \"Predictions-3VC\",\"Predictions-3OF\",\"Predictions-6_channels\",\"Predictions-3VC-2\",\"Predictions-3OF-2\" ,\"Predictions-6_channels-2\",\"Predictions-mask\",\"Predictions-mask-2\"\n",
    "    ]\n",
    "    dst_eaf = path.join(output_folder,version_type,elem[:-4]+'.eaf')\n",
    "    os.makedirs(os.path.dirname(dst_eaf), exist_ok=True)\n",
    "    eaf = pympi.Elan.Eaf(eaf_file)\n",
    "    for tier_name in tiers:\n",
    "        eaf.add_tier(tier_name)\n",
    "    add_annotation_new(eaf, \"Predictions-3VC\", labels_1, start_times, end_time)\n",
    "    add_annotation_new(eaf, \"Predictions-3OF\", labels_2, start_times, end_time)\n",
    "    add_annotation_new(eaf, \"Predictions-6_channels\", labels_3, start_times, end_time)\n",
    "    add_annotation_new(eaf, \"Predictions-3VC-2\", labels_4, start_times_1, end_times_1)\n",
    "    add_annotation_new(eaf, \"Predictions-3OF-2\", labels_5, start_times_2, end_times_2)\n",
    "    add_annotation_new(eaf, \"Predictions-6_channels-2\", labels_6, start_times_3, end_times_3)\n",
    "    add_annotation_new(eaf, \"Predictions-mask\", labels_7, start_times, end_time)\n",
    "    add_annotation_new(eaf, \"Predictions-mask-2\", labels_8, start_times_4, end_times_4)\n",
    "    \n",
    "    eaf.to_file(dst_eaf)\n",
    "    "
   ]
  },
  {
   "cell_type": "code",
   "execution_count": null,
   "id": "5af1b913",
   "metadata": {},
   "outputs": [],
   "source": []
  },
  {
   "cell_type": "markdown",
   "id": "55d856d5",
   "metadata": {},
   "source": [
    "# Csv header addition"
   ]
  },
  {
   "cell_type": "code",
   "execution_count": 40,
   "id": "177fdae2",
   "metadata": {},
   "outputs": [],
   "source": [
    "import csv"
   ]
  },
  {
   "cell_type": "code",
   "execution_count": 41,
   "id": "5fcd0f13",
   "metadata": {},
   "outputs": [],
   "source": [
    "csv_file_path = r'/beegfs/.global0/ws/sapo684c-sac_space/Testing_from_models/Training_dataset/Version106_FN_FP/version106'"
   ]
  },
  {
   "cell_type": "code",
   "execution_count": null,
   "id": "9c407891",
   "metadata": {},
   "outputs": [],
   "source": [
    "for elem in os.listdir(csv_file_path):\n",
    "    csv_path= os.path.join(csv_file_path,elem)\n",
    "    header_row = ['Filename', 'Ground Truth', 'Predictions', 'Start Time', 'End Time']\n",
    "    data = []\n",
    "    with open(csv_path, 'r', newline='') as csvfile:\n",
    "        csv_reader = csv.reader(csvfile)\n",
    "        for row in csv_reader:\n",
    "            data.append(row)\n",
    "    data.insert(0, header_row)\n",
    "    with open(csv_path, 'w', newline='') as csvfile:\n",
    "        csv_writer = csv.writer(csvfile)\n",
    "        csv_writer.writerows(data)\n",
    "    print(\"Header row added to\", csv_file_path)\n",
    "    \n",
    "\n",
    "    "
   ]
  },
  {
   "cell_type": "markdown",
   "id": "182944aa",
   "metadata": {},
   "source": [
    "# LOOP FOR EAF ON PREVIOUS UPDATED ELAN"
   ]
  },
  {
   "cell_type": "code",
   "execution_count": null,
   "id": "284a6449",
   "metadata": {},
   "outputs": [],
   "source": []
  },
  {
   "cell_type": "code",
   "execution_count": 25,
   "id": "98739ad9",
   "metadata": {},
   "outputs": [],
   "source": [
    "from os import path, makedirs\n",
    "from shutil import copyfile\n",
    "import argparse\n",
    "import os\n",
    "\n",
    "import pympi\n",
    "import numpy as np\n",
    "import pandas as pd\n",
    "\n",
    "from elan_helpers import (\n",
    "    extract_timeseries\n",
    ")\n",
    "from xml_helpers import template2case_xml, handle_eaf_file\n",
    "from video_helpers import find_video_file\n"
   ]
  },
  {
   "cell_type": "code",
   "execution_count": 29,
   "id": "67edc006",
   "metadata": {},
   "outputs": [],
   "source": [
    "def add_annotation_new(eaf, tier_name, data_list, start_time_list, end_time_list):\n",
    "    \n",
    "    for start_time, end_time, label in zip(\n",
    "        start_time_list, end_time_list, data_list\n",
    "        ):\n",
    "        if start_time == end_time:\n",
    "            continue\n",
    "        eaf.add_annotation(tier_name, start_time, end_time, label)\n",
    "    return None"
   ]
  },
  {
   "cell_type": "code",
   "execution_count": 30,
   "id": "72b073e0",
   "metadata": {},
   "outputs": [],
   "source": [
    "output_folder = r'/beegfs/.global0/ws/sapo684c-sac_space/ELAN_Mapping_prediction/Train_dataset/Final_train'"
   ]
  },
  {
   "cell_type": "code",
   "execution_count": 31,
   "id": "36d55e2e",
   "metadata": {},
   "outputs": [],
   "source": [
    "annotations_home = r'/beegfs/.global0/ws/sapo684c-sac_space/ELAN_Mapping_prediction/Train_dataset'"
   ]
  },
  {
   "cell_type": "code",
   "execution_count": 32,
   "id": "6e20fa25",
   "metadata": {},
   "outputs": [],
   "source": [
    "eaf_home=r'/beegfs/.global0/ws/sapo684c-sac_space/ELAN_Mapping_prediction/Train_dataset/Final_merge'"
   ]
  },
  {
   "cell_type": "code",
   "execution_count": 33,
   "id": "cbf9ec52",
   "metadata": {},
   "outputs": [],
   "source": [
    "version_type='version_162'"
   ]
  },
  {
   "cell_type": "code",
   "execution_count": null,
   "id": "02471d94",
   "metadata": {},
   "outputs": [],
   "source": [
    "annotations_dir=os.path.join(annotations_home,version_type)\n",
    "print(annotations_dir)"
   ]
  },
  {
   "cell_type": "code",
   "execution_count": null,
   "id": "2acede30",
   "metadata": {},
   "outputs": [],
   "source": [
    "for elem in os.listdir(annotations_dir):\n",
    "    print(elem)\n",
    "    annot_file=os.path.join(annotations_dir,elem)\n",
    "    print(annot_file)\n",
    "    ele=elem.split('.')[0]\n",
    "    #ele = '_'.join(ele)\n",
    "    #ele = ele.split('.')[0]\n",
    "    print(ele)\n",
    "    eaf_file = os.path.join(eaf_home, ele+ '.eaf')\n",
    "    df=pd.read_csv(annot_file)\n",
    "    start_times=[]\n",
    "    end_time=[]\n",
    "    labels_1=[]\n",
    "    labels_4=[]\n",
    "    \n",
    "    start_times_1 =[]\n",
    "   \n",
    "    end_times_1=[]\n",
    "  \n",
    "    \n",
    "    for index, row in df.iterrows():\n",
    "        label_1 = row['Predictions']\n",
    "        #label_2 = row['Predictions-3OF']\n",
    "        #label_3 = row['Predictions-6 channels']\n",
    "        #label_7 = row['Predictions-mask']\n",
    "        #print(row)\n",
    "        #print(index)\n",
    "        start_frame = int(row['Start Time'])\n",
    "        start_times.append(start_frame)\n",
    "        end_frame = int(row['End Time'])\n",
    "        end_time.append(end_frame)\n",
    "        labels_1.append(str(label_1))\n",
    "        #labels_2.append(str(label_2))\n",
    "        #labels_3.append(str(label_3))\n",
    "        #labels_7.append(str(label_7))\n",
    "        if label_1 >= 0.5:\n",
    "            label_4= row['Predictions']\n",
    "            start_frame_1=int(row['Start Time'])\n",
    "            start_times_1.append(start_frame_1)\n",
    "            end_frame_1 = int(row['End Time'])\n",
    "            end_times_1.append(end_frame_1)\n",
    "            labels_4.append(str(label_4))\n",
    "        '''if label_2>= 0.5:\n",
    "            \n",
    "            label_5= row['Predictions-3OF']\n",
    "            start_frame_2=int(row['Start Time'])\n",
    "            start_times_2.append(start_frame_2)\n",
    "            end_frame_2 = int(row['End Time'])\n",
    "            end_times_2.append(end_frame_2)\n",
    "            labels_5.append(str(label_5))\n",
    "            \n",
    "        if label_3>=0.5:\n",
    "            \n",
    "            label_6= row['Predictions-6 channels']\n",
    "            start_frame_3=int(row['Start Time'])\n",
    "            start_times_3.append(start_frame_3)\n",
    "            end_frame_3 = int(row['End Time'])\n",
    "            end_times_3.append(end_frame_3)\n",
    "            labels_6.append(str(label_6))\n",
    "            \n",
    "        if label_7>=0.5:\n",
    "            \n",
    "            label_8 = row['Predictions-mask']\n",
    "            start_frame_4=int(row['Start Time'])\n",
    "            start_times_4.append(start_frame_4)\n",
    "            end_frame_4 = int(row['End Time'])\n",
    "            end_times_4.append(end_frame_4)\n",
    "            labels_8.append(str(label_8))'''\n",
    "            \n",
    "    tiers = [\n",
    "    \"Predictions_1300_mask\",\"Predictions_1300_mask-2\"]\n",
    "    dst_eaf = path.join(output_folder,version_type,elem[:-4]+'.eaf')\n",
    "    os.makedirs(os.path.dirname(dst_eaf), exist_ok=True)\n",
    "    eaf = pympi.Elan.Eaf(eaf_file)\n",
    "    for tier_name in tiers:\n",
    "        eaf.add_tier(tier_name)\n",
    "    add_annotation_new(eaf, \"Predictions_1300_mask\", labels_1, start_times, end_time)\n",
    "    #add_annotation_new(eaf, \"Predictions_250_3VC-2\", labels_2, start_times, end_time)\n",
    "    #add_annotation_new(eaf, \"Predictions-6_channels\", labels_3, start_times, end_time)\n",
    "    add_annotation_new(eaf, \"Predictions_1300_mask-2\", labels_4, start_times_1, end_times_1)\n",
    "    #add_annotation_new(eaf, \"Predictions-3OF-2\", labels_5, start_times_2, end_times_2)\n",
    "    #add_annotation_new(eaf, \"Predictions-6_channels-2\", labels_6, start_times_3, end_times_3)\n",
    "    #add_annotation_new(eaf, \"Predictions-mask\", labels_7, start_times, end_time)\n",
    "    #add_annotation_new(eaf, \"Predictions-mask-2\", labels_8, start_times_4, end_times_4)\n",
    "    \n",
    "    eaf.to_file(dst_eaf)\n",
    "    "
   ]
  },
  {
   "cell_type": "code",
   "execution_count": null,
   "id": "8d02d75e",
   "metadata": {},
   "outputs": [],
   "source": []
  }
 ],
 "metadata": {
  "kernelspec": {
   "display_name": "arupi_alp",
   "language": "python",
   "name": "arupi_alp"
  },
  "language_info": {
   "codemirror_mode": {
    "name": "ipython",
    "version": 3
   },
   "file_extension": ".py",
   "mimetype": "text/x-python",
   "name": "python",
   "nbconvert_exporter": "python",
   "pygments_lexer": "ipython3",
   "version": "3.10.4"
  }
 },
 "nbformat": 4,
 "nbformat_minor": 5
}
