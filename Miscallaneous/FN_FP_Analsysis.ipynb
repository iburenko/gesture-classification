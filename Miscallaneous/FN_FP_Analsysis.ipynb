{
 "cells": [
  {
   "cell_type": "code",
   "execution_count": 1,
   "id": "483ef8d7",
   "metadata": {},
   "outputs": [],
   "source": [
    "import json"
   ]
  },
  {
   "cell_type": "code",
   "execution_count": 2,
   "id": "1f5b81e5",
   "metadata": {},
   "outputs": [],
   "source": [
    "fp=r'/beegfs/.global0/ws/sapo684c-sac_space/Testing_from_models/False_positive_negative_analysis/version106_FP_FN.json'"
   ]
  },
  {
   "cell_type": "code",
   "execution_count": null,
   "id": "21a7df3e",
   "metadata": {},
   "outputs": [],
   "source": [
    "with open(fp, 'r') as file:\n",
    "    loaded_data = json.load(file)\n",
    "\n",
    "print(loaded_data)"
   ]
  },
  {
   "cell_type": "code",
   "execution_count": 4,
   "id": "81d3865a",
   "metadata": {},
   "outputs": [],
   "source": [
    "wrong_files=[]\n",
    "for dict in loaded_data:\n",
    "    wrong_file = dict.get('File')\n",
    "    if wrong_file is not None:\n",
    "        wrong_files.append(wrong_file)"
   ]
  },
  {
   "cell_type": "code",
   "execution_count": null,
   "id": "856d4d9a",
   "metadata": {},
   "outputs": [],
   "source": [
    "print(len(wrong_files))"
   ]
  },
  {
   "cell_type": "code",
   "execution_count": null,
   "id": "436594bc",
   "metadata": {},
   "outputs": [],
   "source": [
    "wrong_files"
   ]
  },
  {
   "cell_type": "code",
   "execution_count": 7,
   "id": "4ae0c1a1",
   "metadata": {},
   "outputs": [],
   "source": [
    "of_fp=r'/beegfs/.global0/ws/sapo684c-sac_space/Testing_from_models/False_positive_negative_analysis/version104.json'"
   ]
  },
  {
   "cell_type": "code",
   "execution_count": null,
   "id": "e35441ae",
   "metadata": {},
   "outputs": [],
   "source": [
    "with open(of_fp, 'r') as file:\n",
    "    new_data = json.load(file)\n",
    "\n",
    "print(new_data)"
   ]
  },
  {
   "cell_type": "code",
   "execution_count": 25,
   "id": "fe645373",
   "metadata": {},
   "outputs": [],
   "source": [
    "import os\n",
    "import csv\n"
   ]
  },
  {
   "cell_type": "code",
   "execution_count": 26,
   "id": "92606e3c",
   "metadata": {},
   "outputs": [],
   "source": [
    "ver98=r'/beegfs/.global0/ws/sapo684c-sac_space/Testing_from_models/Training_dataset/version_98'\n",
    "ver104=r'/beegfs/.global0/ws/sapo684c-sac_space/Testing_from_models/Training_dataset/version_104'\n",
    "ver106=r'/beegfs/.global0/ws/sapo684c-sac_space/Testing_from_models/Training_dataset/version_106'"
   ]
  },
  {
   "cell_type": "code",
   "execution_count": 27,
   "id": "d2e16ff4",
   "metadata": {},
   "outputs": [],
   "source": [
    "op=r'/beegfs/.global0/ws/sapo684c-sac_space/Testing_from_models/Training_dataset/Version106_FN_FP/version106'"
   ]
  },
  {
   "cell_type": "code",
   "execution_count": 28,
   "id": "6b35a596",
   "metadata": {},
   "outputs": [],
   "source": [
    "csv_writers ={}"
   ]
  },
  {
   "cell_type": "code",
   "execution_count": 29,
   "id": "828fdad7",
   "metadata": {},
   "outputs": [],
   "source": [
    "def extract_date(npz_filename):\n",
    "    file_group = npz_filename.split('_')[1:]\n",
    "    file_group = '_'.join(file_group)\n",
    "    file_group = file_group.split('.')[0]\n",
    "    return file_group"
   ]
  },
  {
   "cell_type": "code",
   "execution_count": null,
   "id": "17d4c3f1",
   "metadata": {},
   "outputs": [],
   "source": [
    "for npz_filename in wrong_files:\n",
    "    date=extract_date(npz_filename)\n",
    "    if date not in csv_writers:\n",
    "        csv_filename=os.path.join(ver106,f'{date}.csv')\n",
    "        if os.path.exists(csv_filename):\n",
    "            csv_file = open(csv_filename, 'r')\n",
    "            csv_reader = csv.reader(csv_file)\n",
    "            op_file=os.path.join(op,f'filtered_{date}.csv')\n",
    "            output_file = open(op_file, 'w', newline='')\n",
    "            csv_writer = csv.writer(output_file)\n",
    "            csv_writers[date] = csv_writer\n",
    "            for row in csv_reader:\n",
    "                if row and row[0] in wrong_files:\n",
    "                    csv_writer.writerow(row)\n",
    "            csv_file.close()\n",
    "            output_file.close()\n",
    "            \n",
    "print(\"Filtering and writing completed.\")\n",
    "                                   "
   ]
  },
  {
   "cell_type": "code",
   "execution_count": null,
   "id": "32abc62c",
   "metadata": {},
   "outputs": [],
   "source": []
  },
  {
   "cell_type": "code",
   "execution_count": null,
   "id": "fd2d8dc4",
   "metadata": {},
   "outputs": [],
   "source": []
  },
  {
   "cell_type": "code",
   "execution_count": null,
   "id": "1d26a23d",
   "metadata": {},
   "outputs": [],
   "source": [
    "filename = \"000000048_2014-11-29_939-1223.npz\"\n",
    "file_group = filename.split('_')[1:]\n",
    "file_group = '_'.join(file_group)\n",
    "file_group = file_group.split('.')[0]  # Remove the \".npz\" extension\n",
    "print(file_group)"
   ]
  },
  {
   "cell_type": "code",
   "execution_count": null,
   "id": "95c06972",
   "metadata": {},
   "outputs": [],
   "source": []
  },
  {
   "cell_type": "code",
   "execution_count": null,
   "id": "04945283",
   "metadata": {},
   "outputs": [],
   "source": []
  }
 ],
 "metadata": {
  "kernelspec": {
   "display_name": "arupi_alp",
   "language": "python",
   "name": "arupi_alp"
  },
  "language_info": {
   "codemirror_mode": {
    "name": "ipython",
    "version": 3
   },
   "file_extension": ".py",
   "mimetype": "text/x-python",
   "name": "python",
   "nbconvert_exporter": "python",
   "pygments_lexer": "ipython3",
   "version": "3.10.4"
  }
 },
 "nbformat": 4,
 "nbformat_minor": 5
}
