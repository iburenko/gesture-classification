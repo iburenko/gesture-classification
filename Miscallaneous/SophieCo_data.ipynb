{
 "cells": [
  {
   "cell_type": "code",
   "execution_count": 65,
   "id": "d17b9f9b",
   "metadata": {},
   "outputs": [],
   "source": [
    "import xml.etree.ElementTree as ET"
   ]
  },
  {
   "cell_type": "code",
   "execution_count": 66,
   "id": "4b43f814",
   "metadata": {},
   "outputs": [],
   "source": [
    "tree = ET.parse(r'/home/sapo684c/4t4SlwYeDao_986-1008.eaf')"
   ]
  },
  {
   "cell_type": "code",
   "execution_count": 67,
   "id": "2e3ee117",
   "metadata": {},
   "outputs": [],
   "source": [
    "root = tree.getroot()"
   ]
  },
  {
   "cell_type": "code",
   "execution_count": 68,
   "id": "651d1d27",
   "metadata": {},
   "outputs": [],
   "source": [
    "tiers = root.findall('.//TIER')"
   ]
  },
  {
   "cell_type": "code",
   "execution_count": null,
   "id": "5960ddfe",
   "metadata": {},
   "outputs": [],
   "source": [
    "annotation_counts={}\n",
    "for tier in tiers:\n",
    "    tier_id = tier.get('TIER_ID')\n",
    "    #print(tier_id)\n",
    "    if tier_id in ['Handshape','Saggital axis hand','Saggital axis fingers','Lateral axis hand','Lateral axis fingers','Vertical axis hand','Vertical axis fingers','IP','ip']:\n",
    "        alignable_annotations = tier.findall('.//ALIGNABLE_ANNOTATION')\n",
    "        for alignable_annotation in alignable_annotations:\n",
    "            time_slot_ref1=alignable_annotation.get('TIME_SLOT_REF1')\n",
    "            time_slot_ref2=alignable_annotation.get('TIME_SLOT_REF2')\n",
    "            annotation_value_element = alignable_annotation.find('ANNOTATION_VALUE')\n",
    "            annotation_value = annotation_value_element.text if annotation_value_element is not None else None\n",
    "            print(f\"Tier ID: {tier_id},TIME_SLOT_REF1: {time_slot_ref1}, TIME_SLOT_REF2: {time_slot_ref2}, ANNOTATION_VALUE: {annotation_value}\")\n",
    "            \n",
    "            if time_slot_ref1 and time_slot_ref2:\n",
    "                \n",
    "                time_slot_diff = abs(int(root.find(f'.//TIME_ORDER//TIME_SLOT[@TIME_SLOT_ID=\"{time_slot_ref1}\"]').get('TIME_VALUE')) - \n",
    "                                     int(root.find(f'.//TIME_ORDER//TIME_SLOT[@TIME_SLOT_ID=\"{time_slot_ref2}\"]').get('TIME_VALUE')))\n",
    "            else:\n",
    "                time_slot_diff = None\n",
    "            \n",
    "            \n",
    "            if annotation_value not in annotation_counts:\n",
    "                annotation_counts[annotation_value] = {'count': 0,'total_time_slot_diffs':0}\n",
    "            annotation_counts[annotation_value]['count'] +=1\n",
    "            if time_slot_diff is not None:\n",
    "                annotation_counts[annotation_value]['total_time_slot_diffs'] +=time_slot_diff\n",
    "            \n",
    "            \n",
    "for annotation_value, data in annotation_counts.items():\n",
    "    count = data['count']\n",
    "    total_time_slot_diffs = data['total_time_slot_diffs']\n",
    "    \n",
    "    print(f'Annotation Values: {annotation_value},Count: {count},Total Time Slot Diff: {total_time_slot_diffs}')\n",
    "    '''if time_slot_diffs:\n",
    "        for time_slot_diff in time_slot_diffs:\n",
    "            print(f'Time Slot Diff: {time_slot_diff}')\n",
    "    else:\n",
    "        print('Time Slot Diff: N/A')'''\n",
    "    \n",
    "#tier_type = tier.get('LINGUISTIC_TYPE_REF')\n",
    "#print(f\"Tier ID: {tier_id}, Participant: {participant}, Type: {tier_type}, Time_Slot_Ref1: {time_slot_ref1},Time_Slot_Ref2:{time_slot_ref2}\")"
   ]
  },
  {
   "cell_type": "code",
   "execution_count": null,
   "id": "a6ded85a",
   "metadata": {},
   "outputs": [],
   "source": [
    "tier"
   ]
  },
  {
   "cell_type": "code",
   "execution_count": 6,
   "id": "e90bc71e",
   "metadata": {},
   "outputs": [],
   "source": [
    "import xml.etree.ElementTree as ET\n",
    "import os"
   ]
  },
  {
   "cell_type": "code",
   "execution_count": 7,
   "id": "2168d2fb",
   "metadata": {},
   "outputs": [],
   "source": [
    "path = r'/projects/p_scads_bdai/sophieco_data/SophieCoVisionaries_Future_depictions/ELAN/'"
   ]
  },
  {
   "cell_type": "code",
   "execution_count": null,
   "id": "ffc71c16",
   "metadata": {
    "scrolled": true
   },
   "outputs": [],
   "source": [
    "annotation_counts={}\n",
    "for elem in os.listdir(path):\n",
    "    tree = ET.parse(os.path.join(path,elem))\n",
    "    print(os.path.join(path,elem))\n",
    "    root = tree.getroot()\n",
    "    tiers = root.findall('.//TIER')\n",
    "    \n",
    "    for tier in tiers:\n",
    "        tier_id = tier.get('TIER_ID')\n",
    "        #print(tier_id)\n",
    "        if tier_id in ['Handshape','Saggital axis hand','Saggital axis fingers','Lateral axis hand','Lateral axis fingers','Vertical axis hand','Vertical axis fingers','IP','ip']:\n",
    "            alignable_annotations = tier.findall('.//ALIGNABLE_ANNOTATION')\n",
    "            for alignable_annotation in alignable_annotations:\n",
    "                time_slot_ref1=alignable_annotation.get('TIME_SLOT_REF1')\n",
    "                time_slot_ref2=alignable_annotation.get('TIME_SLOT_REF2')\n",
    "                annotation_value_element = alignable_annotation.find('ANNOTATION_VALUE')\n",
    "                annotation_value = annotation_value_element.text if annotation_value_element is not None else None\n",
    "                print(f\"Tier ID: {tier_id},TIME_SLOT_REF1: {time_slot_ref1}, TIME_SLOT_REF2: {time_slot_ref2}, ANNOTATION_VALUE: {annotation_value}\")\n",
    "                if annotation_value == \"LH OP A\":\n",
    "                    print('Annotation found ',elem)\n",
    "                \n",
    "                \n",
    "                \n",
    "                if time_slot_ref1 and time_slot_ref2:\n",
    "\n",
    "                    time_slot_diff = abs(int(root.find(f'.//TIME_ORDER//TIME_SLOT[@TIME_SLOT_ID=\"{time_slot_ref1}\"]').get('TIME_VALUE')) - \n",
    "                                         int(root.find(f'.//TIME_ORDER//TIME_SLOT[@TIME_SLOT_ID=\"{time_slot_ref2}\"]').get('TIME_VALUE')))\n",
    "                else:\n",
    "                    time_slot_diff = None\n",
    "\n",
    "\n",
    "                if annotation_value not in annotation_counts:\n",
    "                    annotation_counts[annotation_value] = {'count': 0,'total_time_slot_diffs':0}\n",
    "                annotation_counts[annotation_value]['count'] +=1\n",
    "                if time_slot_diff is not None:\n",
    "                    annotation_counts[annotation_value]['total_time_slot_diffs'] +=time_slot_diff\n",
    "            \n",
    "            \n",
    "for annotation_value, data in annotation_counts.items():\n",
    "    count = data['count']\n",
    "    total_time_slot_diffs = data['total_time_slot_diffs']\n",
    "    \n",
    "    print(f'Annotation Values: {annotation_value},Count: {count},Total Time Slot Diff: {total_time_slot_diffs}')\n",
    "    '''if time_slot_diffs:\n",
    "        for time_slot_diff in time_slot_diffs:\n",
    "            print(f'Time Slot Diff: {time_slot_diff}')\n",
    "    else:\n",
    "        print('Time Slot Diff: N/A')'''"
   ]
  },
  {
   "cell_type": "code",
   "execution_count": 8,
   "id": "16c3016d",
   "metadata": {},
   "outputs": [],
   "source": [
    "import csv"
   ]
  },
  {
   "cell_type": "code",
   "execution_count": null,
   "id": "48abe3f3",
   "metadata": {},
   "outputs": [],
   "source": [
    "annotation_counts={}\n",
    "for elem in os.listdir(path):\n",
    "    tree = ET.parse(os.path.join(path,elem))\n",
    "    print(os.path.join(path,elem))\n",
    "    root = tree.getroot()\n",
    "    \n",
    "    time_order = root.find('.//TIME_ORDER')\n",
    "    time_slots = time_order.findall('.//TIME_SLOT')\n",
    "    time_slot_map = {ts.get('TIME_SLOT_ID'): int(ts.get('TIME_VALUE')) for ts in time_slots}\n",
    "  \n",
    "    \n",
    "    tiers = root.findall('.//TIER')\n",
    "    \n",
    "    for tier in tiers:\n",
    "        tier_id = tier.get('TIER_ID')\n",
    "        #print(tier_id)\n",
    "        if tier_id in ['Handshape','Saggital axis hand','Saggital axis fingers','Lateral axis hand','Lateral axis fingers','Vertical axis hand','Vertical axis fingers','IP','ip']:\n",
    "            alignable_annotations = tier.findall('.//ALIGNABLE_ANNOTATION')\n",
    "            for alignable_annotation in alignable_annotations:\n",
    "                time_slot_ref1=alignable_annotation.get('TIME_SLOT_REF1')\n",
    "                time_slot_ref2=alignable_annotation.get('TIME_SLOT_REF2')\n",
    "                annotation_value_element = alignable_annotation.find('ANNOTATION_VALUE')\n",
    "                annotation_value = annotation_value_element.text if annotation_value_element is not None else None\n",
    "                print(f\"Tier ID: {tier_id},TIME_SLOT_REF1: {time_slot_ref1}, TIME_SLOT_REF2: {time_slot_ref2}, ANNOTATION_VALUE: {annotation_value}\")\n",
    "                \n",
    "                if annotation_value is not None:\n",
    "                    annotation_value = annotation_value.split('(')[0].strip()\n",
    "\n",
    "                \n",
    "                if time_slot_ref1 and time_slot_ref2:\n",
    "\n",
    "                    time_slot_diff = abs(time_slot_map[time_slot_ref1] - time_slot_map[time_slot_ref2])\n",
    "                else:\n",
    "                    time_slot_diff = None\n",
    "\n",
    "\n",
    "                if annotation_value not in annotation_counts:\n",
    "                    annotation_counts[annotation_value] = {'count': 0,'total_time_slot_diffs':0}\n",
    "                annotation_counts[annotation_value]['count'] +=1\n",
    "                if annotation_counts[annotation_value]['count']==1:\n",
    "                    annotation_counts[annotation_value]['First_file'] = elem\n",
    "                    annotation_counts[annotation_value]['Start_time'] = time_slot_map[time_slot_ref1]\n",
    "                if time_slot_diff is not None:\n",
    "                    annotation_counts[annotation_value]['total_time_slot_diffs'] +=time_slot_diff\n",
    "            \n",
    "            \n",
    "for annotation_value, data in annotation_counts.items():\n",
    "    count = data['count']\n",
    "    total_time_slot_diffs = data['total_time_slot_diffs']\n",
    "    First_file = data['First_file']\n",
    "    Start_time =data['Start_time']\n",
    "    \n",
    "    print(f'Annotation Values: {annotation_value},Count: {count},Total Time Slot Diff: {total_time_slot_diffs},First file:{First_file},Start_time:{Start_time}')\n",
    "    \n",
    "    \n",
    "    \n",
    "output_file = 'annotation_counts_very_new_future.csv'\n",
    "with open(output_file, mode='w', newline='') as csv_file:\n",
    "    fieldnames = ['Annotation Values', 'Count', 'Total Time Slot Diff','First file','Start time']\n",
    "    writer = csv.DictWriter(csv_file, fieldnames=fieldnames, delimiter=';')\n",
    "    writer.writeheader()\n",
    "\n",
    "    for annotation_value, data in annotation_counts.items():\n",
    "        count = data['count']\n",
    "        total_time_slot_diffs = data['total_time_slot_diffs']\n",
    "        First_file = data['First_file']\n",
    "        Start_time =data['Start_time']\n",
    "        writer.writerow({'Annotation Values': annotation_value, 'Count': count, 'Total Time Slot Diff': total_time_slot_diffs, 'First file': First_file, 'Start time':Start_time})\n",
    "\n",
    "print(f\"Data has been saved to {output_file}\")"
   ]
  },
  {
   "cell_type": "code",
   "execution_count": 22,
   "id": "9bd5b48d",
   "metadata": {},
   "outputs": [],
   "source": [
    "import xml.etree.ElementTree as ET\n",
    "import os\n",
    "import csv\n",
    "from itertools import combinations"
   ]
  },
  {
   "cell_type": "code",
   "execution_count": 23,
   "id": "38f08ec4",
   "metadata": {},
   "outputs": [],
   "source": [
    "def process_xml_files(path):\n",
    "    annotation_counts = {}\n",
    "    \n",
    "    for elem in os.listdir(path):\n",
    "        tree = ET.parse(os.path.join(path, elem))\n",
    "        root = tree.getroot()\n",
    "        time_order = root.find('.//TIME_ORDER')\n",
    "        time_slots = time_order.findall('.//TIME_SLOT')\n",
    "        time_slot_map = {ts.get('TIME_SLOT_ID'): int(ts.get('TIME_VALUE')) for ts in time_slots}\n",
    "\n",
    "        tiers = root.findall('.//TIER')\n",
    "\n",
    "        for tier in tiers:\n",
    "            tier_id = tier.get('TIER_ID')\n",
    "            if tier_id in ['Handshape', 'Saggital axis hand', 'Saggital axis fingers', 'Lateral axis hand', 'Lateral axis fingers', 'Vertical axis hand', 'Vertical axis fingers', 'IP', 'ip']:\n",
    "                alignable_annotations = tier.findall('.//ALIGNABLE_ANNOTATION')\n",
    "                for alignable_annotation in alignable_annotations:\n",
    "                    time_slot_ref1 = alignable_annotation.get('TIME_SLOT_REF1')\n",
    "                    time_slot_ref2 = alignable_annotation.get('TIME_SLOT_REF2')\n",
    "                    annotation_value_element = alignable_annotation.find('ANNOTATION_VALUE')\n",
    "                    annotation_value = annotation_value_element.text if annotation_value_element is not None else None\n",
    "\n",
    "                    if time_slot_ref1 and time_slot_ref2:\n",
    "                        time_slot_diff = abs(time_slot_map[time_slot_ref1] - time_slot_map[time_slot_ref2])\n",
    "                    else:\n",
    "                        time_slot_diff = None\n",
    "                        \n",
    "                        \n",
    "                    if annotation_value is not None:\n",
    "                        annotation_value = annotation_value.split('(')[0].strip()\n",
    "\n",
    "\n",
    "                    if annotation_value not in annotation_counts:\n",
    "                        annotation_counts[annotation_value] = {'count': 0,'total_time_slot_diffs':0}\n",
    "                    annotation_counts[annotation_value]['count'] +=1\n",
    "                    if annotation_counts[annotation_value]['count']==1:\n",
    "                        annotation_counts[annotation_value]['First_file'] = elem\n",
    "                        annotation_counts[annotation_value]['Start_time'] = time_slot_map[time_slot_ref1]\n",
    "                    if time_slot_diff is not None:\n",
    "                        annotation_counts[annotation_value]['total_time_slot_diffs'] +=time_slot_diff\n",
    "    #annotation_counts = {annotation: data for annotation, data in annotation_counts.items() if data['count'] > 0}\n",
    "\n",
    "    return annotation_counts"
   ]
  },
  {
   "cell_type": "code",
   "execution_count": 24,
   "id": "eea0e051",
   "metadata": {},
   "outputs": [],
   "source": [
    "path = r'/projects/p_scads_bdai/sophieco_data/SophieCoVisionaries_Future_depictions/ELAN/'\n",
    "annotation_counts_path1 = process_xml_files(path)"
   ]
  },
  {
   "cell_type": "code",
   "execution_count": 25,
   "id": "5a78572a",
   "metadata": {},
   "outputs": [],
   "source": [
    "second_path = r'/projects/p_scads_bdai/sophieco_data/SophieCoVisionaries_Past_depictions/ELAN/'\n",
    "annotation_counts_path2 = process_xml_files(second_path)\n"
   ]
  },
  {
   "cell_type": "code",
   "execution_count": 26,
   "id": "57ddc504",
   "metadata": {},
   "outputs": [],
   "source": [
    "for annotation_value, data in annotation_counts_path2.items():\n",
    "    if annotation_value in annotation_counts_path1:\n",
    "        annotation_counts_path1[annotation_value]['count'] += data['count']\n",
    "        annotation_counts_path1[annotation_value]['total_time_slot_diffs'] += data['total_time_slot_diffs']\n",
    "        #annotation_counts_path1[annotation_value]['First_file'] += data['First_file']\n",
    "        #annotation_counts_path1[annotation_value]['Start_time'] += data['Start_time']\n",
    "    else:\n",
    "        annotation_counts_path1[annotation_value] = data"
   ]
  },
  {
   "cell_type": "code",
   "execution_count": 27,
   "id": "2bff6851",
   "metadata": {},
   "outputs": [],
   "source": [
    "output_file = 'annotation_counts_very1_new_Final_combined.csv'"
   ]
  },
  {
   "cell_type": "code",
   "execution_count": 28,
   "id": "a7eaea7a",
   "metadata": {},
   "outputs": [
    {
     "name": "stdout",
     "output_type": "stream",
     "text": [
      "Data has been saved to annotation_counts_very1_new_Final_combined.csv\n"
     ]
    }
   ],
   "source": [
    "\n",
    "with open(output_file, mode='w', newline='') as csv_file:\n",
    "    fieldnames = ['Annotation Values', 'Count', 'Total Time Slot Diff','First file','Start time']\n",
    "    writer = csv.DictWriter(csv_file, fieldnames=fieldnames, delimiter=';')\n",
    "    writer.writeheader()\n",
    "\n",
    "    for annotation_value, data in annotation_counts_path1.items():\n",
    "        count = data['count']\n",
    "        total_time_slot_diffs = data['total_time_slot_diffs']\n",
    "        First_file = data['First_file']\n",
    "        Start_time =data['Start_time']\n",
    "        writer.writerow({'Annotation Values': annotation_value, 'Count': count, 'Total Time Slot Diff': total_time_slot_diffs, 'First file': First_file, 'Start time':Start_time})\n",
    "\n",
    "print(f\"Data has been saved to {output_file}\")"
   ]
  }
 ],
 "metadata": {
  "kernelspec": {
   "display_name": "arupi_alp",
   "language": "python",
   "name": "arupi_alp"
  },
  "language_info": {
   "codemirror_mode": {
    "name": "ipython",
    "version": 3
   },
   "file_extension": ".py",
   "mimetype": "text/x-python",
   "name": "python",
   "nbconvert_exporter": "python",
   "pygments_lexer": "ipython3",
   "version": "3.10.4"
  }
 },
 "nbformat": 4,
 "nbformat_minor": 5
}
